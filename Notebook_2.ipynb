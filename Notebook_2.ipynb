{
 "cells": [
  {
   "cell_type": "code",
   "execution_count": 33,
   "metadata": {},
   "outputs": [],
   "source": [
    "import requests\n",
    "import json\n",
    "import numpy as np"
   ]
  },
  {
   "cell_type": "markdown",
   "metadata": {},
   "source": [
    "## Test de l'API"
   ]
  },
  {
   "cell_type": "code",
   "execution_count": 35,
   "metadata": {},
   "outputs": [
    {
     "data": {
      "text/plain": [
       "'{\"message\":\"Hello World\"}'"
      ]
     },
     "execution_count": 35,
     "metadata": {},
     "output_type": "execute_result"
    }
   ],
   "source": [
    "response = requests.get('http://127.0.0.1:8000/hello')\n",
    "response.text"
   ]
  },
  {
   "cell_type": "code",
   "execution_count": 38,
   "metadata": {},
   "outputs": [
    {
     "name": "stdout",
     "output_type": "stream",
     "text": [
      "Response Status Code: 200\n",
      "Response Text: {\"prediction\":2}\n"
     ]
    }
   ],
   "source": [
    "data_1 = {\n",
    "  \"Gender\": 1,\n",
    "  \"Age\": 25,\n",
    "  \"Physical_Activity_Level\": 457,\n",
    "  \"Heart_Rate\": 856,\n",
    "  \"Daily_Steps\": 7574,\n",
    "  \"BloodPressure_high\": 125,\n",
    "  \"BloodPressure_low\": 70,\n",
    "  \"Sleep_Disorder\":0\n",
    "}\n",
    "\n",
    "response = requests.post('http://127.0.0.1:8000/predict', json=data_1)\n",
    "\n",
    "print(\"Response Status Code:\", response.status_code)\n",
    "print(\"Response Text:\", response.text)\n"
   ]
  },
  {
   "cell_type": "code",
   "execution_count": 42,
   "metadata": {},
   "outputs": [
    {
     "name": "stdout",
     "output_type": "stream",
     "text": [
      "Response Status Code: 200\n",
      "Response Text: {\"prediction\":2}\n"
     ]
    }
   ],
   "source": [
    "data_2 = {\n",
    "    \"Physical_Activity_Level\" : 25,\n",
    "    \"Heart_Rate\" : 80,\n",
    "    \"Daily_Steps\" : 5000,\n",
    "    \"Sleep_Disorder\": 0\n",
    "    }\n",
    "\n",
    "response = requests.post('http://127.0.0.1:8000/predict_2', json=data_2)\n",
    "\n",
    "print(\"Response Status Code:\", response.status_code)\n",
    "print(\"Response Text:\", response.text)\n"
   ]
  }
 ],
 "metadata": {
  "kernelspec": {
   "display_name": "venv_fastapi",
   "language": "python",
   "name": "python3"
  },
  "language_info": {
   "codemirror_mode": {
    "name": "ipython",
    "version": 3
   },
   "file_extension": ".py",
   "mimetype": "text/x-python",
   "name": "python",
   "nbconvert_exporter": "python",
   "pygments_lexer": "ipython3",
   "version": "3.8.10"
  }
 },
 "nbformat": 4,
 "nbformat_minor": 2
}
